{
  "nbformat": 4,
  "nbformat_minor": 0,
  "metadata": {
    "colab": {
      "provenance": [],
      "include_colab_link": true
    },
    "kernelspec": {
      "name": "python3",
      "display_name": "Python 3"
    },
    "language_info": {
      "name": "python"
    }
  },
  "cells": [
    {
      "cell_type": "markdown",
      "metadata": {
        "id": "view-in-github",
        "colab_type": "text"
      },
      "source": [
        "<a href=\"https://colab.research.google.com/github/pallavmarch/WebScraping_PsychologyToday/blob/main/psychologytoday_webscraping_dataset_analysis.ipynb\" target=\"_parent\"><img src=\"https://colab.research.google.com/assets/colab-badge.svg\" alt=\"Open In Colab\"/></a>"
      ]
    },
    {
      "cell_type": "code",
      "execution_count": null,
      "metadata": {
        "id": "BZuW26i31kK8"
      },
      "outputs": [],
      "source": [
        "import pandas as pd\n",
        "import numpy as np\n",
        "import matplotlib.pyplot as plt\n",
        "import seaborn as sns\n",
        "\n",
        "!pip install pgeocode\n",
        "import pgeocode\n",
        "\n",
        "pd.set_option(\"display.max_columns\", None)\n",
        "df=pd.read_csv(\"/content/therapists_profiles_data_Texas.csv\",encoding='latin-1')"
      ]
    },
    {
      "cell_type": "code",
      "source": [
        "df[df['Name'] == 'Kathy Lee Siepker']"
      ],
      "metadata": {
        "colab": {
          "base_uri": "https://localhost:8080/",
          "height": 239
        },
        "id": "ZgspqVh5VkOL",
        "outputId": "98ad7736-e5f3-45ad-9126-f1d3a000408a"
      },
      "execution_count": 2,
      "outputs": [
        {
          "output_type": "execute_result",
          "data": {
            "text/plain": [
              "                                            Profile URL               Name  \\\n",
              "5743  https://www.psychologytoday.com/us/therapists/...  Kathy Lee Siepker   \n",
              "\n",
              "                                            Title  \\\n",
              "5743  Clinical Social Work/Therapist,PhD,LCSW,CDP   \n",
              "\n",
              "                                  Location State ZIP Code           Phone  \\\n",
              "5743  Flower Mound, TX 75028(214) 692-2076    TX    75028  (214) 692-2076   \n",
              "\n",
              "     Individual Sessions ($) Couple Sessions ($)  \\\n",
              "5743                   $150                $150    \n",
              "\n",
              "                                                 Pay By  \\\n",
              "5743  ACH Bank transfer, American Express, Discover,...   \n",
              "\n",
              "                                              Insurance  \\\n",
              "5743  Aetna | BlueCross and BlueShield | Carelon Beh...   \n",
              "\n",
              "                      Top Specialties  \\\n",
              "5743  Anxiety | Depression | Dementia   \n",
              "\n",
              "                                              Expertise  \\\n",
              "5743  Career Counseling | Coping Skills | Emotional ...   \n",
              "\n",
              "                                       Types of Therapy  \\\n",
              "5743  Coaching | Cognitive Behavioral (CBT) | Cultur...   \n",
              "\n",
              "                                     Personal Statement  \\\n",
              "5743  I am a licensed clinical social worker, therap...   \n",
              "\n",
              "     Verified by Psychology Today In Practice (years) Membership  \\\n",
              "5743                          Yes                   4  Not Found   \n",
              "\n",
              "                                            Certificate  \\\n",
              "5743  National Council of Certified Dementia Practit...   \n",
              "\n",
              "                                Attended University Major/Degree  \\\n",
              "5743  The Ohio State University (PhD); Wash U (MSW)  Social Work   \n",
              "\n",
              "     Graduation Year                                     Qualifications  \\\n",
              "5743            2014  Verified byPsychology TodayLicensed by State o...   \n",
              "\n",
              "      Endorsement Count                                        Endorsed By  \\\n",
              "5743                  1  Jamie English - Clinical Social Work/Therapist...   \n",
              "\n",
              "                        Age                    Participants  \\\n",
              "5743  Adults | Elders (65+)  Individuals | Couples | Family   \n",
              "\n",
              "                                            Communities   Religion  \\\n",
              "5743  Bisexual Allied | Gay Allied | HIV / AIDS Alli...  Not Found   \n",
              "\n",
              "     I also speak  \n",
              "5743       Korean  "
            ],
            "text/html": [
              "\n",
              "  <div id=\"df-ff2fee5a-8ee6-47fd-8df6-7ef53bd2c447\" class=\"colab-df-container\">\n",
              "    <div>\n",
              "<style scoped>\n",
              "    .dataframe tbody tr th:only-of-type {\n",
              "        vertical-align: middle;\n",
              "    }\n",
              "\n",
              "    .dataframe tbody tr th {\n",
              "        vertical-align: top;\n",
              "    }\n",
              "\n",
              "    .dataframe thead th {\n",
              "        text-align: right;\n",
              "    }\n",
              "</style>\n",
              "<table border=\"1\" class=\"dataframe\">\n",
              "  <thead>\n",
              "    <tr style=\"text-align: right;\">\n",
              "      <th></th>\n",
              "      <th>Profile URL</th>\n",
              "      <th>Name</th>\n",
              "      <th>Title</th>\n",
              "      <th>Location</th>\n",
              "      <th>State</th>\n",
              "      <th>ZIP Code</th>\n",
              "      <th>Phone</th>\n",
              "      <th>Individual Sessions ($)</th>\n",
              "      <th>Couple Sessions ($)</th>\n",
              "      <th>Pay By</th>\n",
              "      <th>Insurance</th>\n",
              "      <th>Top Specialties</th>\n",
              "      <th>Expertise</th>\n",
              "      <th>Types of Therapy</th>\n",
              "      <th>Personal Statement</th>\n",
              "      <th>Verified by Psychology Today</th>\n",
              "      <th>In Practice (years)</th>\n",
              "      <th>Membership</th>\n",
              "      <th>Certificate</th>\n",
              "      <th>Attended University</th>\n",
              "      <th>Major/Degree</th>\n",
              "      <th>Graduation Year</th>\n",
              "      <th>Qualifications</th>\n",
              "      <th>Endorsement Count</th>\n",
              "      <th>Endorsed By</th>\n",
              "      <th>Age</th>\n",
              "      <th>Participants</th>\n",
              "      <th>Communities</th>\n",
              "      <th>Religion</th>\n",
              "      <th>I also speak</th>\n",
              "    </tr>\n",
              "  </thead>\n",
              "  <tbody>\n",
              "    <tr>\n",
              "      <th>5743</th>\n",
              "      <td>https://www.psychologytoday.com/us/therapists/...</td>\n",
              "      <td>Kathy Lee Siepker</td>\n",
              "      <td>Clinical Social Work/Therapist,PhD,LCSW,CDP</td>\n",
              "      <td>Flower Mound, TX 75028(214) 692-2076</td>\n",
              "      <td>TX</td>\n",
              "      <td>75028</td>\n",
              "      <td>(214) 692-2076</td>\n",
              "      <td>$150</td>\n",
              "      <td>$150</td>\n",
              "      <td>ACH Bank transfer, American Express, Discover,...</td>\n",
              "      <td>Aetna | BlueCross and BlueShield | Carelon Beh...</td>\n",
              "      <td>Anxiety | Depression | Dementia</td>\n",
              "      <td>Career Counseling | Coping Skills | Emotional ...</td>\n",
              "      <td>Coaching | Cognitive Behavioral (CBT) | Cultur...</td>\n",
              "      <td>I am a licensed clinical social worker, therap...</td>\n",
              "      <td>Yes</td>\n",
              "      <td>4</td>\n",
              "      <td>Not Found</td>\n",
              "      <td>National Council of Certified Dementia Practit...</td>\n",
              "      <td>The Ohio State University (PhD); Wash U (MSW)</td>\n",
              "      <td>Social Work</td>\n",
              "      <td>2014</td>\n",
              "      <td>Verified byPsychology TodayLicensed by State o...</td>\n",
              "      <td>1</td>\n",
              "      <td>Jamie English - Clinical Social Work/Therapist...</td>\n",
              "      <td>Adults | Elders (65+)</td>\n",
              "      <td>Individuals | Couples | Family</td>\n",
              "      <td>Bisexual Allied | Gay Allied | HIV / AIDS Alli...</td>\n",
              "      <td>Not Found</td>\n",
              "      <td>Korean</td>\n",
              "    </tr>\n",
              "  </tbody>\n",
              "</table>\n",
              "</div>\n",
              "    <div class=\"colab-df-buttons\">\n",
              "\n",
              "  <div class=\"colab-df-container\">\n",
              "    <button class=\"colab-df-convert\" onclick=\"convertToInteractive('df-ff2fee5a-8ee6-47fd-8df6-7ef53bd2c447')\"\n",
              "            title=\"Convert this dataframe to an interactive table.\"\n",
              "            style=\"display:none;\">\n",
              "\n",
              "  <svg xmlns=\"http://www.w3.org/2000/svg\" height=\"24px\" viewBox=\"0 -960 960 960\">\n",
              "    <path d=\"M120-120v-720h720v720H120Zm60-500h600v-160H180v160Zm220 220h160v-160H400v160Zm0 220h160v-160H400v160ZM180-400h160v-160H180v160Zm440 0h160v-160H620v160ZM180-180h160v-160H180v160Zm440 0h160v-160H620v160Z\"/>\n",
              "  </svg>\n",
              "    </button>\n",
              "\n",
              "  <style>\n",
              "    .colab-df-container {\n",
              "      display:flex;\n",
              "      gap: 12px;\n",
              "    }\n",
              "\n",
              "    .colab-df-convert {\n",
              "      background-color: #E8F0FE;\n",
              "      border: none;\n",
              "      border-radius: 50%;\n",
              "      cursor: pointer;\n",
              "      display: none;\n",
              "      fill: #1967D2;\n",
              "      height: 32px;\n",
              "      padding: 0 0 0 0;\n",
              "      width: 32px;\n",
              "    }\n",
              "\n",
              "    .colab-df-convert:hover {\n",
              "      background-color: #E2EBFA;\n",
              "      box-shadow: 0px 1px 2px rgba(60, 64, 67, 0.3), 0px 1px 3px 1px rgba(60, 64, 67, 0.15);\n",
              "      fill: #174EA6;\n",
              "    }\n",
              "\n",
              "    .colab-df-buttons div {\n",
              "      margin-bottom: 4px;\n",
              "    }\n",
              "\n",
              "    [theme=dark] .colab-df-convert {\n",
              "      background-color: #3B4455;\n",
              "      fill: #D2E3FC;\n",
              "    }\n",
              "\n",
              "    [theme=dark] .colab-df-convert:hover {\n",
              "      background-color: #434B5C;\n",
              "      box-shadow: 0px 1px 3px 1px rgba(0, 0, 0, 0.15);\n",
              "      filter: drop-shadow(0px 1px 2px rgba(0, 0, 0, 0.3));\n",
              "      fill: #FFFFFF;\n",
              "    }\n",
              "  </style>\n",
              "\n",
              "    <script>\n",
              "      const buttonEl =\n",
              "        document.querySelector('#df-ff2fee5a-8ee6-47fd-8df6-7ef53bd2c447 button.colab-df-convert');\n",
              "      buttonEl.style.display =\n",
              "        google.colab.kernel.accessAllowed ? 'block' : 'none';\n",
              "\n",
              "      async function convertToInteractive(key) {\n",
              "        const element = document.querySelector('#df-ff2fee5a-8ee6-47fd-8df6-7ef53bd2c447');\n",
              "        const dataTable =\n",
              "          await google.colab.kernel.invokeFunction('convertToInteractive',\n",
              "                                                    [key], {});\n",
              "        if (!dataTable) return;\n",
              "\n",
              "        const docLinkHtml = 'Like what you see? Visit the ' +\n",
              "          '<a target=\"_blank\" href=https://colab.research.google.com/notebooks/data_table.ipynb>data table notebook</a>'\n",
              "          + ' to learn more about interactive tables.';\n",
              "        element.innerHTML = '';\n",
              "        dataTable['output_type'] = 'display_data';\n",
              "        await google.colab.output.renderOutput(dataTable, element);\n",
              "        const docLink = document.createElement('div');\n",
              "        docLink.innerHTML = docLinkHtml;\n",
              "        element.appendChild(docLink);\n",
              "      }\n",
              "    </script>\n",
              "  </div>\n",
              "\n",
              "\n",
              "    </div>\n",
              "  </div>\n"
            ],
            "application/vnd.google.colaboratory.intrinsic+json": {
              "type": "dataframe"
            }
          },
          "metadata": {},
          "execution_count": 2
        }
      ]
    },
    {
      "cell_type": "code",
      "source": [
        "print(len(df[df['Location'].isnull()]))\n",
        "df.dropna(subset=['Location'], inplace=True)\n",
        "print(len(df[df['Location'].isnull()]))"
      ],
      "metadata": {
        "colab": {
          "base_uri": "https://localhost:8080/"
        },
        "id": "30N94SqegjIr",
        "outputId": "2a8fd51e-a533-498f-f58f-349554621aae"
      },
      "execution_count": 4,
      "outputs": [
        {
          "output_type": "stream",
          "name": "stdout",
          "text": [
            "0\n",
            "0\n"
          ]
        }
      ]
    },
    {
      "cell_type": "markdown",
      "source": [
        "## Adding columns"
      ],
      "metadata": {
        "id": "t1j2K1u1cLnK"
      }
    },
    {
      "cell_type": "code",
      "source": [
        "df['Age'] = df['Age'].replace({'Elders (65+)': 'Elders'})\n",
        "df['Dementia'] = df['Expertise'].str.lower().str.contains('dementia') | df['Top Specialties'].str.lower().str.contains('dementia')\n",
        "df['Autism'] = df['Expertise'].str.lower().str.contains('autism') | df['Top Specialties'].str.lower().str.contains('autism')\n",
        "df['Depression'] = df['Expertise'].str.lower().str.contains('depression') | df['Top Specialties'].str.lower().str.contains('depression')\n",
        "df['Elders (65+)']=df['Age'].str.lower().str.contains('elders')\n",
        "df['ZIP Code']=df['ZIP Code'].astype(int)"
      ],
      "metadata": {
        "id": "VHzZ4OqRU65Q"
      },
      "execution_count": 5,
      "outputs": []
    },
    {
      "cell_type": "code",
      "source": [
        "import matplotlib.pyplot as plt\n",
        "import seaborn as sns\n",
        "\n",
        "# Extract relevant data\n",
        "data = df[df['Dementia'] == True]['Elders (65+)'].value_counts()\n",
        "\n",
        "# Labels and sizes\n",
        "labels = data.index\n",
        "sizes = data.values\n",
        "\n",
        "# Define color palette\n",
        "colors = sns.color_palette(\"pastel\", len(labels))\n",
        "\n",
        "# Create the figure and axis\n",
        "fig, ax = plt.subplots(figsize=(6, 6))\n",
        "\n",
        "# Create the donut chart\n",
        "wedges, texts, autotexts = ax.pie(\n",
        "    sizes, labels=labels, startangle=90, pctdistance=0.85, colors=colors,\n",
        "    autopct=lambda p: f'{int(round(p * sum(sizes) / 100))} ({p:.1f}%)',  # Show value + percentage\n",
        "    textprops={'fontsize': 10}\n",
        ")\n",
        "\n",
        "# Draw a circle in the center to create a donut effect\n",
        "centre_circle = plt.Circle((0, 0), 0.70, fc='white')\n",
        "ax.add_artist(centre_circle)\n",
        "\n",
        "# Set title\n",
        "plt.title('Distribution of Elders (65+) Among Therapists with Dementia Expertise')\n",
        "\n",
        "# Show plot\n",
        "plt.show()\n"
      ],
      "metadata": {
        "colab": {
          "base_uri": "https://localhost:8080/",
          "height": 521
        },
        "id": "ftpgYWCPMOEo",
        "outputId": "fca83984-a07b-419e-bd09-8624e5461e40"
      },
      "execution_count": 10,
      "outputs": [
        {
          "output_type": "display_data",
          "data": {
            "text/plain": [
              "<Figure size 600x600 with 1 Axes>"
            ],
            "image/png": "[encoded data removed]"
          },
          "metadata": {}
        }
      ]
    },
    {
      "cell_type": "markdown",
      "source": [
        "## Adding county, city"
      ],
      "metadata": {
        "id": "bVCrfctaEKJ6"
      }
    },
    {
      "cell_type": "code",
      "source": [
        "# Initialize the geocoder for US ZIP codes\n",
        "nomi = pgeocode.Nominatim('us')\n",
        "\n",
        "# Function to fetch city and county from ZIP Code\n",
        "def get_location_info(zip_code):\n",
        "    location = nomi.query_postal_code(zip_code)\n",
        "    return pd.Series([location['place_name'], location['county_name']])\n",
        "\n",
        "df[['City', 'County']] = df['ZIP Code'].astype(str).apply(get_location_info)"
      ],
      "metadata": {
        "id": "MQvVCMyNEJ4g"
      },
      "execution_count": 11,
      "outputs": []
    },
    {
      "cell_type": "markdown",
      "source": [
        "### DEMENTIA"
      ],
      "metadata": {
        "id": "uVYDH_eAeOqy"
      }
    },
    {
      "cell_type": "code",
      "source": [
        "Dementia=df[df['Dementia']==True]\n",
        "\n",
        "Dementia=Dementia[['Name','Title', 'Location', 'City', 'County','ZIP Code', 'State',\n",
        "       'Individual Sessions ($)', 'Couple Sessions ($)',\n",
        "       'Insurance', 'Top Specialties', 'Expertise', 'Types of Therapy',\n",
        "       'In Practice (years)', 'Membership', 'Certificate',\n",
        "       'Major/Degree', 'Graduation Year', 'I also speak', 'Dementia','Elders (65+)']]\n",
        "\n",
        "#Dementia['Individual Sessions ($)'] = Dementia['Individual Sessions ($)'].replace({'Not Found': '0'}).str.replace('$', '').str.replace(' ', '').astype(float)\n",
        "#Dementia['Couple Sessions ($)'] = Dementia['Couple Sessions ($)'].replace({'Not Found': '0'}).str.replace('$', '').str.replace(' ', '').astype(float)\n",
        "#Dementia['In Practice (years)'] = Dementia['In Practice (years)'].replace({'Not Found': '0'}).astype(float)"
      ],
      "metadata": {
        "id": "b4WP6GVYWoBP"
      },
      "execution_count": 33,
      "outputs": []
    },
    {
      "cell_type": "code",
      "source": [
        "cols_to_clean = ['Individual Sessions ($)', 'Couple Sessions ($)', 'In Practice (years)']\n",
        "\n",
        "# Clean and convert columns to integers while handling missing values\n",
        "Dementia[cols_to_clean] = (\n",
        "    Dementia[cols_to_clean]\n",
        "    .replace('Not Found', np.nan)  # Replace 'Not Found' with NaN\n",
        "    .apply(lambda x: x.str.replace(r'[$ ]', '', regex=True).astype(float))  # Remove $, spaces, convert to float\n",
        "    .astype('Int64')  # Convert to nullable integer type\n",
        ")\n",
        "\n",
        "# Generate value counts for each column and merge them side by side\n",
        "value_counts_list = [\n",
        "    Dementia[col].value_counts().astype(int).rename_axis(col).reset_index(name='Count')\n",
        "    for col in cols_to_clean\n",
        "]\n",
        "side_by_side = pd.concat(value_counts_list, axis=1)\n",
        "\n",
        "\n",
        "# Create pivot table\n",
        "pivot_table1 = pd.pivot_table(Dementia,\n",
        "                              values=cols_to_clean,\n",
        "                              aggfunc=['mean', 'median', 'min', 'max', 'std', 'count', 'nunique', lambda x: x.isnull().sum()],\n",
        "                              columns=['Dementia'],\n",
        "                              dropna=True)\n",
        "\n",
        "pivot_table1 = pivot_table1.applymap(lambda x: int(x) if not pd.isna(x) else x)\n",
        "\n",
        "# Display styled pivot table\n",
        "pivot_table1.style.background_gradient(cmap='Blues').format(\"{:.0f}\")  # Remove decimals\n"
      ],
      "metadata": {
        "id": "xLccibtIN7ii",
        "outputId": "c1b64db5-b9c4-4d52-e633-1a8f30ef7483",
        "colab": {
          "base_uri": "https://localhost:8080/",
          "height": 229
        }
      },
      "execution_count": 34,
      "outputs": [
        {
          "output_type": "stream",
          "name": "stderr",
          "text": [
            "<ipython-input-34-7d8e76e173bd>:26: FutureWarning: DataFrame.applymap has been deprecated. Use DataFrame.map instead.\n",
            "  pivot_table1 = pivot_table1.applymap(lambda x: int(x) if not pd.isna(x) else x)\n"
          ]
        },
        {
          "output_type": "execute_result",
          "data": {
            "text/plain": [
              "<pandas.io.formats.style.Styler at 0x7852bd724590>"
            ],
            "text/html": [
              "<style type=\"text/css\">\n",
              "#T_0a4c1_row0_col0, #T_0a4c1_row0_col1, #T_0a4c1_row0_col2, #T_0a4c1_row0_col3, #T_0a4c1_row0_col4, #T_0a4c1_row0_col7, #T_0a4c1_row1_col6, #T_0a4c1_row2_col1, #T_0a4c1_row2_col5 {\n",
              "  background-color: #08306b;\n",
              "  color: #f1f1f1;\n",
              "}\n",
              "#T_0a4c1_row0_col5, #T_0a4c1_row0_col6, #T_0a4c1_row1_col0, #T_0a4c1_row1_col1, #T_0a4c1_row1_col2, #T_0a4c1_row1_col3, #T_0a4c1_row1_col4, #T_0a4c1_row2_col7 {\n",
              "  background-color: #f7fbff;\n",
              "  color: #000000;\n",
              "}\n",
              "#T_0a4c1_row1_col5 {\n",
              "  background-color: #64a9d3;\n",
              "  color: #f1f1f1;\n",
              "}\n",
              "#T_0a4c1_row1_col7 {\n",
              "  background-color: #74b3d8;\n",
              "  color: #000000;\n",
              "}\n",
              "#T_0a4c1_row2_col0 {\n",
              "  background-color: #09529d;\n",
              "  color: #f1f1f1;\n",
              "}\n",
              "#T_0a4c1_row2_col2 {\n",
              "  background-color: #6fb0d7;\n",
              "  color: #f1f1f1;\n",
              "}\n",
              "#T_0a4c1_row2_col3 {\n",
              "  background-color: #3484bf;\n",
              "  color: #f1f1f1;\n",
              "}\n",
              "#T_0a4c1_row2_col4 {\n",
              "  background-color: #2474b7;\n",
              "  color: #f1f1f1;\n",
              "}\n",
              "#T_0a4c1_row2_col6 {\n",
              "  background-color: #6aaed6;\n",
              "  color: #f1f1f1;\n",
              "}\n",
              "</style>\n",
              "<table id=\"T_0a4c1\" class=\"dataframe\">\n",
              "  <thead>\n",
              "    <tr>\n",
              "      <th class=\"blank level0\" >&nbsp;</th>\n",
              "      <th id=\"T_0a4c1_level0_col0\" class=\"col_heading level0 col0\" >mean</th>\n",
              "      <th id=\"T_0a4c1_level0_col1\" class=\"col_heading level0 col1\" >median</th>\n",
              "      <th id=\"T_0a4c1_level0_col2\" class=\"col_heading level0 col2\" >min</th>\n",
              "      <th id=\"T_0a4c1_level0_col3\" class=\"col_heading level0 col3\" >max</th>\n",
              "      <th id=\"T_0a4c1_level0_col4\" class=\"col_heading level0 col4\" >std</th>\n",
              "      <th id=\"T_0a4c1_level0_col5\" class=\"col_heading level0 col5\" >count</th>\n",
              "      <th id=\"T_0a4c1_level0_col6\" class=\"col_heading level0 col6\" >nunique</th>\n",
              "      <th id=\"T_0a4c1_level0_col7\" class=\"col_heading level0 col7\" ><lambda></th>\n",
              "    </tr>\n",
              "    <tr>\n",
              "      <th class=\"index_name level1\" >Dementia</th>\n",
              "      <th id=\"T_0a4c1_level1_col0\" class=\"col_heading level1 col0\" >True</th>\n",
              "      <th id=\"T_0a4c1_level1_col1\" class=\"col_heading level1 col1\" >True</th>\n",
              "      <th id=\"T_0a4c1_level1_col2\" class=\"col_heading level1 col2\" >True</th>\n",
              "      <th id=\"T_0a4c1_level1_col3\" class=\"col_heading level1 col3\" >True</th>\n",
              "      <th id=\"T_0a4c1_level1_col4\" class=\"col_heading level1 col4\" >True</th>\n",
              "      <th id=\"T_0a4c1_level1_col5\" class=\"col_heading level1 col5\" >True</th>\n",
              "      <th id=\"T_0a4c1_level1_col6\" class=\"col_heading level1 col6\" >True</th>\n",
              "      <th id=\"T_0a4c1_level1_col7\" class=\"col_heading level1 col7\" >True</th>\n",
              "    </tr>\n",
              "  </thead>\n",
              "  <tbody>\n",
              "    <tr>\n",
              "      <th id=\"T_0a4c1_level0_row0\" class=\"row_heading level0 row0\" >Couple Sessions ($)</th>\n",
              "      <td id=\"T_0a4c1_row0_col0\" class=\"data row0 col0\" >160</td>\n",
              "      <td id=\"T_0a4c1_row0_col1\" class=\"data row0 col1\" >150</td>\n",
              "      <td id=\"T_0a4c1_row0_col2\" class=\"data row0 col2\" >50</td>\n",
              "      <td id=\"T_0a4c1_row0_col3\" class=\"data row0 col3\" >350</td>\n",
              "      <td id=\"T_0a4c1_row0_col4\" class=\"data row0 col4\" >51</td>\n",
              "      <td id=\"T_0a4c1_row0_col5\" class=\"data row0 col5\" >94</td>\n",
              "      <td id=\"T_0a4c1_row0_col6\" class=\"data row0 col6\" >32</td>\n",
              "      <td id=\"T_0a4c1_row0_col7\" class=\"data row0 col7\" >121</td>\n",
              "    </tr>\n",
              "    <tr>\n",
              "      <th id=\"T_0a4c1_level0_row1\" class=\"row_heading level0 row1\" >In Practice (years)</th>\n",
              "      <td id=\"T_0a4c1_row1_col0\" class=\"data row1 col0\" >14</td>\n",
              "      <td id=\"T_0a4c1_row1_col1\" class=\"data row1 col1\" >12</td>\n",
              "      <td id=\"T_0a4c1_row1_col2\" class=\"data row1 col2\" >1</td>\n",
              "      <td id=\"T_0a4c1_row1_col3\" class=\"data row1 col3\" >41</td>\n",
              "      <td id=\"T_0a4c1_row1_col4\" class=\"data row1 col4\" >9</td>\n",
              "      <td id=\"T_0a4c1_row1_col5\" class=\"data row1 col5\" >132</td>\n",
              "      <td id=\"T_0a4c1_row1_col6\" class=\"data row1 col6\" >38</td>\n",
              "      <td id=\"T_0a4c1_row1_col7\" class=\"data row1 col7\" >83</td>\n",
              "    </tr>\n",
              "    <tr>\n",
              "      <th id=\"T_0a4c1_level0_row2\" class=\"row_heading level0 row2\" >Individual Sessions ($)</th>\n",
              "      <td id=\"T_0a4c1_row2_col0\" class=\"data row2 col0\" >141</td>\n",
              "      <td id=\"T_0a4c1_row2_col1\" class=\"data row2 col1\" >150</td>\n",
              "      <td id=\"T_0a4c1_row2_col2\" class=\"data row2 col2\" >25</td>\n",
              "      <td id=\"T_0a4c1_row2_col3\" class=\"data row2 col3\" >250</td>\n",
              "      <td id=\"T_0a4c1_row2_col4\" class=\"data row2 col4\" >40</td>\n",
              "      <td id=\"T_0a4c1_row2_col5\" class=\"data row2 col5\" >167</td>\n",
              "      <td id=\"T_0a4c1_row2_col6\" class=\"data row2 col6\" >35</td>\n",
              "      <td id=\"T_0a4c1_row2_col7\" class=\"data row2 col7\" >48</td>\n",
              "    </tr>\n",
              "  </tbody>\n",
              "</table>\n"
            ]
          },
          "metadata": {},
          "execution_count": 34
        }
      ]
    },
    {
      "cell_type": "markdown",
      "source": [
        "However There are rows with blank Individual Sessions ($), couple Sessions ($) and In Practice (years) which are not considered 0 instead of blank"
      ],
      "metadata": {
        "id": "sFQelMzgR_im"
      }
    },
    {
      "cell_type": "code",
      "source": [
        "def transform_insurance(row):\n",
        "  insurance = str(row).lower()\n",
        "  if \"not found\" in insurance:\n",
        "    return \"No\"\n",
        "  elif insurance == \"out of network\":\n",
        "    return \"Out of Network\"\n",
        "  elif \"medicare\" in insurance and \"medicaid\" in insurance:\n",
        "    return \"Medicare|Medicaid\"\n",
        "  elif \"medicare\" in insurance:\n",
        "    return \"Medicare\"\n",
        "  elif \"medicaid\" in insurance:\n",
        "    return \"Medicaid\"\n",
        "  else:\n",
        "    return \"Yes\"\n",
        "\n",
        "Dementia['Insurance_Category'] = Dementia['Insurance'].apply(transform_insurance)\n",
        "\n",
        "\n",
        "Dementia.insert(8, 'Insurance_Category', Dementia.pop('Insurance_Category'))\n"
      ],
      "metadata": {
        "id": "qeqVoeGlUWh2"
      },
      "execution_count": null,
      "outputs": []
    },
    {
      "cell_type": "code",
      "source": [
        "Dementia['Insurance_Category'].value_counts()"
      ],
      "metadata": {
        "id": "2bWsOL3ZgAya",
        "outputId": "6f715c34-95bd-4ab5-e292-7de7a036d532",
        "colab": {
          "base_uri": "https://localhost:8080/",
          "height": 303
        }
      },
      "execution_count": 36,
      "outputs": [
        {
          "output_type": "execute_result",
          "data": {
            "text/plain": [
              "Insurance_Category\n",
              "Yes                  85\n",
              "Medicare             45\n",
              "No                   36\n",
              "Out of Network       21\n",
              "Medicare|Medicaid    16\n",
              "Medicaid             12\n",
              "Name: count, dtype: int64"
            ],
            "text/html": [
              "<div>\n",
              "<style scoped>\n",
              "    .dataframe tbody tr th:only-of-type {\n",
              "        vertical-align: middle;\n",
              "    }\n",
              "\n",
              "    .dataframe tbody tr th {\n",
              "        vertical-align: top;\n",
              "    }\n",
              "\n",
              "    .dataframe thead th {\n",
              "        text-align: right;\n",
              "    }\n",
              "</style>\n",
              "<table border=\"1\" class=\"dataframe\">\n",
              "  <thead>\n",
              "    <tr style=\"text-align: right;\">\n",
              "      <th></th>\n",
              "      <th>count</th>\n",
              "    </tr>\n",
              "    <tr>\n",
              "      <th>Insurance_Category</th>\n",
              "      <th></th>\n",
              "    </tr>\n",
              "  </thead>\n",
              "  <tbody>\n",
              "    <tr>\n",
              "      <th>Yes</th>\n",
              "      <td>85</td>\n",
              "    </tr>\n",
              "    <tr>\n",
              "      <th>Medicare</th>\n",
              "      <td>45</td>\n",
              "    </tr>\n",
              "    <tr>\n",
              "      <th>No</th>\n",
              "      <td>36</td>\n",
              "    </tr>\n",
              "    <tr>\n",
              "      <th>Out of Network</th>\n",
              "      <td>21</td>\n",
              "    </tr>\n",
              "    <tr>\n",
              "      <th>Medicare|Medicaid</th>\n",
              "      <td>16</td>\n",
              "    </tr>\n",
              "    <tr>\n",
              "      <th>Medicaid</th>\n",
              "      <td>12</td>\n",
              "    </tr>\n",
              "  </tbody>\n",
              "</table>\n",
              "</div><br><label><b>dtype:</b> int64</label>"
            ]
          },
          "metadata": {},
          "execution_count": 36
        }
      ]
    },
    {
      "cell_type": "code",
      "source": [
        "\n",
        "insurance_counts = Dementia['Insurance_Category'].value_counts().reset_index()\n",
        "insurance_counts.columns = ['Insurance Category', 'Count']\n",
        "\n",
        "plt.figure(figsize=(6, 3))\n",
        "ax = sns.barplot(data=insurance_counts, y='Insurance Category', x='Count', palette='Blues_r')\n",
        "\n",
        "for p in ax.patches:\n",
        "        ax.annotate(\n",
        "            format(p.get_width(), '.0f'),\n",
        "            (p.get_x() + p.get_width() + 0.5, p.get_y() + p.get_height() / 2.),\n",
        "            ha='left', va='center', fontsize=9, color='blue'\n",
        "        )\n",
        "\n",
        "plt.title(\"Distribution of Insurance Categories\")\n",
        "plt.grid(axis='x', linestyle='--', alpha=0.7)\n",
        "plt.show()"
      ],
      "metadata": {
        "colab": {
          "base_uri": "https://localhost:8080/",
          "height": 440
        },
        "id": "QPuhHNvzjqo7",
        "outputId": "b701addd-dc22-4992-a367-d27de84d7b39"
      },
      "execution_count": 52,
      "outputs": [
        {
          "output_type": "stream",
          "name": "stderr",
          "text": [
            "<ipython-input-52-80b523086ead>:5: FutureWarning: \n",
            "\n",
            "Passing `palette` without assigning `hue` is deprecated and will be removed in v0.14.0. Assign the `y` variable to `hue` and set `legend=False` for the same effect.\n",
            "\n",
            "  ax = sns.barplot(data=insurance_counts, y='Insurance Category', x='Count', palette='Blues_r')\n"
          ]
        },
        {
          "output_type": "display_data",
          "data": {
            "text/plain": [
              "<Figure size 600x300 with 1 Axes>"
            ],
            "image/png": "[encoded data removed]"
          },
          "metadata": {}
        }
      ]
    }
  ]
}